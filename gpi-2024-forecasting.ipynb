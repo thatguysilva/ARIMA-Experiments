{
 "cells": [
  {
   "cell_type": "code",
   "execution_count": 1,
   "id": "31249b62",
   "metadata": {
    "execution": {
     "iopub.execute_input": "2023-11-04T04:29:07.063356Z",
     "iopub.status.busy": "2023-11-04T04:29:07.062712Z",
     "iopub.status.idle": "2023-11-04T04:29:46.954775Z",
     "shell.execute_reply": "2023-11-04T04:29:46.953214Z"
    },
    "id": "c0KdBY3hemPq",
    "outputId": "42fbab13-550b-4f04-860c-16ece0309a8a",
    "papermill": {
     "duration": 39.899329,
     "end_time": "2023-11-04T04:29:46.957580",
     "exception": false,
     "start_time": "2023-11-04T04:29:07.058251",
     "status": "completed"
    },
    "tags": []
   },
   "outputs": [
    {
     "name": "stdout",
     "output_type": "stream",
     "text": [
      "Collecting pystan\r\n",
      "  Downloading pystan-3.7.0-py3-none-any.whl (13 kB)\r\n",
      "Requirement already satisfied: aiohttp<4.0,>=3.6 in /opt/conda/lib/python3.10/site-packages (from pystan) (3.8.4)\r\n",
      "Collecting clikit<0.7,>=0.6 (from pystan)\r\n",
      "  Downloading clikit-0.6.2-py2.py3-none-any.whl (91 kB)\r\n",
      "\u001b[2K     \u001b[90m━━━━━━━━━━━━━━━━━━━━━━━━━━━━━━━━━━━━━━━━\u001b[0m \u001b[32m91.8/91.8 kB\u001b[0m \u001b[31m3.6 MB/s\u001b[0m eta \u001b[36m0:00:00\u001b[0m\r\n",
      "\u001b[?25hCollecting httpstan<4.11,>=4.10 (from pystan)\r\n",
      "  Downloading httpstan-4.10.1-cp310-cp310-manylinux_2_17_x86_64.manylinux2014_x86_64.whl (44.4 MB)\r\n",
      "\u001b[2K     \u001b[90m━━━━━━━━━━━━━━━━━━━━━━━━━━━━━━━━━━━━━━━━\u001b[0m \u001b[32m44.4/44.4 MB\u001b[0m \u001b[31m22.6 MB/s\u001b[0m eta \u001b[36m0:00:00\u001b[0m\r\n",
      "\u001b[?25hRequirement already satisfied: numpy<2.0,>=1.19 in /opt/conda/lib/python3.10/site-packages (from pystan) (1.23.5)\r\n",
      "Collecting pysimdjson<6.0.0,>=5.0.2 (from pystan)\r\n",
      "  Downloading pysimdjson-5.0.2-cp310-cp310-manylinux_2_17_x86_64.manylinux2014_x86_64.whl (1.8 MB)\r\n",
      "\u001b[2K     \u001b[90m━━━━━━━━━━━━━━━━━━━━━━━━━━━━━━━━━━━━━━━━\u001b[0m \u001b[32m1.8/1.8 MB\u001b[0m \u001b[31m59.1 MB/s\u001b[0m eta \u001b[36m0:00:00\u001b[0m\r\n",
      "\u001b[?25hRequirement already satisfied: setuptools in /opt/conda/lib/python3.10/site-packages (from pystan) (68.0.0)\r\n",
      "Requirement already satisfied: attrs>=17.3.0 in /opt/conda/lib/python3.10/site-packages (from aiohttp<4.0,>=3.6->pystan) (23.1.0)\r\n",
      "Requirement already satisfied: charset-normalizer<4.0,>=2.0 in /opt/conda/lib/python3.10/site-packages (from aiohttp<4.0,>=3.6->pystan) (3.1.0)\r\n",
      "Requirement already satisfied: multidict<7.0,>=4.5 in /opt/conda/lib/python3.10/site-packages (from aiohttp<4.0,>=3.6->pystan) (6.0.4)\r\n",
      "Requirement already satisfied: async-timeout<5.0,>=4.0.0a3 in /opt/conda/lib/python3.10/site-packages (from aiohttp<4.0,>=3.6->pystan) (4.0.2)\r\n",
      "Requirement already satisfied: yarl<2.0,>=1.0 in /opt/conda/lib/python3.10/site-packages (from aiohttp<4.0,>=3.6->pystan) (1.9.2)\r\n",
      "Requirement already satisfied: frozenlist>=1.1.1 in /opt/conda/lib/python3.10/site-packages (from aiohttp<4.0,>=3.6->pystan) (1.3.3)\r\n",
      "Requirement already satisfied: aiosignal>=1.1.2 in /opt/conda/lib/python3.10/site-packages (from aiohttp<4.0,>=3.6->pystan) (1.3.1)\r\n",
      "Collecting crashtest<0.4.0,>=0.3.0 (from clikit<0.7,>=0.6->pystan)\r\n",
      "  Downloading crashtest-0.3.1-py3-none-any.whl (7.0 kB)\r\n",
      "Collecting pastel<0.3.0,>=0.2.0 (from clikit<0.7,>=0.6->pystan)\r\n",
      "  Downloading pastel-0.2.1-py2.py3-none-any.whl (6.0 kB)\r\n",
      "Collecting pylev<2.0,>=1.3 (from clikit<0.7,>=0.6->pystan)\r\n",
      "  Downloading pylev-1.4.0-py2.py3-none-any.whl (6.1 kB)\r\n",
      "Requirement already satisfied: appdirs<2.0,>=1.4 in /opt/conda/lib/python3.10/site-packages (from httpstan<4.11,>=4.10->pystan) (1.4.4)\r\n",
      "Requirement already satisfied: marshmallow<4.0,>=3.10 in /opt/conda/lib/python3.10/site-packages (from httpstan<4.11,>=4.10->pystan) (3.20.1)\r\n",
      "Collecting webargs<9.0,>=8.0 (from httpstan<4.11,>=4.10->pystan)\r\n",
      "  Downloading webargs-8.3.0-py3-none-any.whl (31 kB)\r\n",
      "Requirement already satisfied: packaging>=17.0 in /opt/conda/lib/python3.10/site-packages (from marshmallow<4.0,>=3.10->httpstan<4.11,>=4.10->pystan) (21.3)\r\n",
      "Requirement already satisfied: idna>=2.0 in /opt/conda/lib/python3.10/site-packages (from yarl<2.0,>=1.0->aiohttp<4.0,>=3.6->pystan) (3.4)\r\n",
      "Requirement already satisfied: pyparsing!=3.0.5,>=2.0.2 in /opt/conda/lib/python3.10/site-packages (from packaging>=17.0->marshmallow<4.0,>=3.10->httpstan<4.11,>=4.10->pystan) (3.0.9)\r\n",
      "Installing collected packages: pylev, pysimdjson, pastel, crashtest, clikit, webargs, httpstan, pystan\r\n",
      "Successfully installed clikit-0.6.2 crashtest-0.3.1 httpstan-4.10.1 pastel-0.2.1 pylev-1.4.0 pysimdjson-5.0.2 pystan-3.7.0 webargs-8.3.0\r\n",
      "Requirement already satisfied: prophet in /opt/conda/lib/python3.10/site-packages (1.1.1)\r\n",
      "Requirement already satisfied: cmdstanpy>=1.0.4 in /opt/conda/lib/python3.10/site-packages (from prophet) (1.1.0)\r\n",
      "Requirement already satisfied: numpy>=1.15.4 in /opt/conda/lib/python3.10/site-packages (from prophet) (1.23.5)\r\n",
      "Requirement already satisfied: pandas>=1.0.4 in /opt/conda/lib/python3.10/site-packages (from prophet) (2.0.3)\r\n",
      "Requirement already satisfied: matplotlib>=2.0.0 in /opt/conda/lib/python3.10/site-packages (from prophet) (3.7.2)\r\n",
      "Requirement already satisfied: LunarCalendar>=0.0.9 in /opt/conda/lib/python3.10/site-packages (from prophet) (0.0.9)\r\n",
      "Requirement already satisfied: convertdate>=2.1.2 in /opt/conda/lib/python3.10/site-packages (from prophet) (2.4.0)\r\n",
      "Requirement already satisfied: holidays>=0.14.2 in /opt/conda/lib/python3.10/site-packages (from prophet) (0.24)\r\n",
      "Requirement already satisfied: setuptools>=42 in /opt/conda/lib/python3.10/site-packages (from prophet) (68.0.0)\r\n",
      "Requirement already satisfied: setuptools-git>=1.2 in /opt/conda/lib/python3.10/site-packages (from prophet) (1.2)\r\n",
      "Requirement already satisfied: python-dateutil>=2.8.0 in /opt/conda/lib/python3.10/site-packages (from prophet) (2.8.2)\r\n",
      "Requirement already satisfied: tqdm>=4.36.1 in /opt/conda/lib/python3.10/site-packages (from prophet) (4.66.1)\r\n",
      "Requirement already satisfied: wheel>=0.37.0 in /opt/conda/lib/python3.10/site-packages (from prophet) (0.40.0)\r\n",
      "Requirement already satisfied: pymeeus<=1,>=0.3.13 in /opt/conda/lib/python3.10/site-packages (from convertdate>=2.1.2->prophet) (0.5.12)\r\n",
      "Requirement already satisfied: hijri-converter in /opt/conda/lib/python3.10/site-packages (from holidays>=0.14.2->prophet) (2.3.1)\r\n",
      "Requirement already satisfied: korean-lunar-calendar in /opt/conda/lib/python3.10/site-packages (from holidays>=0.14.2->prophet) (0.3.1)\r\n",
      "Requirement already satisfied: ephem>=3.7.5.3 in /opt/conda/lib/python3.10/site-packages (from LunarCalendar>=0.0.9->prophet) (4.1.4)\r\n",
      "Requirement already satisfied: pytz in /opt/conda/lib/python3.10/site-packages (from LunarCalendar>=0.0.9->prophet) (2023.3)\r\n",
      "Requirement already satisfied: contourpy>=1.0.1 in /opt/conda/lib/python3.10/site-packages (from matplotlib>=2.0.0->prophet) (1.1.0)\r\n",
      "Requirement already satisfied: cycler>=0.10 in /opt/conda/lib/python3.10/site-packages (from matplotlib>=2.0.0->prophet) (0.11.0)\r\n",
      "Requirement already satisfied: fonttools>=4.22.0 in /opt/conda/lib/python3.10/site-packages (from matplotlib>=2.0.0->prophet) (4.40.0)\r\n",
      "Requirement already satisfied: kiwisolver>=1.0.1 in /opt/conda/lib/python3.10/site-packages (from matplotlib>=2.0.0->prophet) (1.4.4)\r\n",
      "Requirement already satisfied: packaging>=20.0 in /opt/conda/lib/python3.10/site-packages (from matplotlib>=2.0.0->prophet) (21.3)\r\n",
      "Requirement already satisfied: pillow>=6.2.0 in /opt/conda/lib/python3.10/site-packages (from matplotlib>=2.0.0->prophet) (9.5.0)\r\n",
      "Requirement already satisfied: pyparsing<3.1,>=2.3.1 in /opt/conda/lib/python3.10/site-packages (from matplotlib>=2.0.0->prophet) (3.0.9)\r\n",
      "Requirement already satisfied: tzdata>=2022.1 in /opt/conda/lib/python3.10/site-packages (from pandas>=1.0.4->prophet) (2023.3)\r\n",
      "Requirement already satisfied: six>=1.5 in /opt/conda/lib/python3.10/site-packages (from python-dateutil>=2.8.0->prophet) (1.16.0)\r\n"
     ]
    }
   ],
   "source": [
    "!pip install pystan\n",
    "!pip install prophet"
   ]
  },
  {
   "cell_type": "code",
   "execution_count": 2,
   "id": "fe91533b",
   "metadata": {
    "execution": {
     "iopub.execute_input": "2023-11-04T04:29:46.972296Z",
     "iopub.status.busy": "2023-11-04T04:29:46.971807Z",
     "iopub.status.idle": "2023-11-04T04:30:03.673408Z",
     "shell.execute_reply": "2023-11-04T04:30:03.671872Z"
    },
    "id": "NAV_vtHVem-K",
    "outputId": "1824bb5f-13e6-4091-cce3-8f61c46fc5c5",
    "papermill": {
     "duration": 16.712272,
     "end_time": "2023-11-04T04:30:03.676114",
     "exception": false,
     "start_time": "2023-11-04T04:29:46.963842",
     "status": "completed"
    },
    "tags": []
   },
   "outputs": [
    {
     "name": "stdout",
     "output_type": "stream",
     "text": [
      "Requirement already satisfied: openpyxl in /opt/conda/lib/python3.10/site-packages (3.1.2)\r\n",
      "Requirement already satisfied: prophet in /opt/conda/lib/python3.10/site-packages (1.1.1)\r\n",
      "Requirement already satisfied: et-xmlfile in /opt/conda/lib/python3.10/site-packages (from openpyxl) (1.1.0)\r\n",
      "Requirement already satisfied: cmdstanpy>=1.0.4 in /opt/conda/lib/python3.10/site-packages (from prophet) (1.1.0)\r\n",
      "Requirement already satisfied: numpy>=1.15.4 in /opt/conda/lib/python3.10/site-packages (from prophet) (1.23.5)\r\n",
      "Requirement already satisfied: pandas>=1.0.4 in /opt/conda/lib/python3.10/site-packages (from prophet) (2.0.3)\r\n",
      "Requirement already satisfied: matplotlib>=2.0.0 in /opt/conda/lib/python3.10/site-packages (from prophet) (3.7.2)\r\n",
      "Requirement already satisfied: LunarCalendar>=0.0.9 in /opt/conda/lib/python3.10/site-packages (from prophet) (0.0.9)\r\n",
      "Requirement already satisfied: convertdate>=2.1.2 in /opt/conda/lib/python3.10/site-packages (from prophet) (2.4.0)\r\n",
      "Requirement already satisfied: holidays>=0.14.2 in /opt/conda/lib/python3.10/site-packages (from prophet) (0.24)\r\n",
      "Requirement already satisfied: setuptools>=42 in /opt/conda/lib/python3.10/site-packages (from prophet) (68.0.0)\r\n",
      "Requirement already satisfied: setuptools-git>=1.2 in /opt/conda/lib/python3.10/site-packages (from prophet) (1.2)\r\n",
      "Requirement already satisfied: python-dateutil>=2.8.0 in /opt/conda/lib/python3.10/site-packages (from prophet) (2.8.2)\r\n",
      "Requirement already satisfied: tqdm>=4.36.1 in /opt/conda/lib/python3.10/site-packages (from prophet) (4.66.1)\r\n",
      "Requirement already satisfied: wheel>=0.37.0 in /opt/conda/lib/python3.10/site-packages (from prophet) (0.40.0)\r\n",
      "Requirement already satisfied: pymeeus<=1,>=0.3.13 in /opt/conda/lib/python3.10/site-packages (from convertdate>=2.1.2->prophet) (0.5.12)\r\n",
      "Requirement already satisfied: hijri-converter in /opt/conda/lib/python3.10/site-packages (from holidays>=0.14.2->prophet) (2.3.1)\r\n",
      "Requirement already satisfied: korean-lunar-calendar in /opt/conda/lib/python3.10/site-packages (from holidays>=0.14.2->prophet) (0.3.1)\r\n",
      "Requirement already satisfied: ephem>=3.7.5.3 in /opt/conda/lib/python3.10/site-packages (from LunarCalendar>=0.0.9->prophet) (4.1.4)\r\n",
      "Requirement already satisfied: pytz in /opt/conda/lib/python3.10/site-packages (from LunarCalendar>=0.0.9->prophet) (2023.3)\r\n",
      "Requirement already satisfied: contourpy>=1.0.1 in /opt/conda/lib/python3.10/site-packages (from matplotlib>=2.0.0->prophet) (1.1.0)\r\n",
      "Requirement already satisfied: cycler>=0.10 in /opt/conda/lib/python3.10/site-packages (from matplotlib>=2.0.0->prophet) (0.11.0)\r\n",
      "Requirement already satisfied: fonttools>=4.22.0 in /opt/conda/lib/python3.10/site-packages (from matplotlib>=2.0.0->prophet) (4.40.0)\r\n",
      "Requirement already satisfied: kiwisolver>=1.0.1 in /opt/conda/lib/python3.10/site-packages (from matplotlib>=2.0.0->prophet) (1.4.4)\r\n",
      "Requirement already satisfied: packaging>=20.0 in /opt/conda/lib/python3.10/site-packages (from matplotlib>=2.0.0->prophet) (21.3)\r\n",
      "Requirement already satisfied: pillow>=6.2.0 in /opt/conda/lib/python3.10/site-packages (from matplotlib>=2.0.0->prophet) (9.5.0)\r\n",
      "Requirement already satisfied: pyparsing<3.1,>=2.3.1 in /opt/conda/lib/python3.10/site-packages (from matplotlib>=2.0.0->prophet) (3.0.9)\r\n",
      "Requirement already satisfied: tzdata>=2022.1 in /opt/conda/lib/python3.10/site-packages (from pandas>=1.0.4->prophet) (2023.3)\r\n",
      "Requirement already satisfied: six>=1.5 in /opt/conda/lib/python3.10/site-packages (from python-dateutil>=2.8.0->prophet) (1.16.0)\r\n"
     ]
    },
    {
     "name": "stderr",
     "output_type": "stream",
     "text": [
      "04:30:03 - cmdstanpy - INFO - Chain [1] start processing\n",
      "04:30:03 - cmdstanpy - INFO - Chain [1] done processing\n"
     ]
    },
    {
     "name": "stdout",
     "output_type": "stream",
     "text": [
      "Forecasted World Mean GPI for next year using Prophet: 2.07\n"
     ]
    }
   ],
   "source": [
    "import pandas as pd\n",
    "from prophet import Prophet\n",
    "\n",
    "# Ensure you have the required packages installed\n",
    "!pip install openpyxl prophet\n",
    "\n",
    "# Load the dataset from the Excel file\n",
    "mean_gpi_df = pd.read_excel('/kaggle/input/world-mean-gpi/World_Mean_GPI.xlsx')\n",
    "\n",
    "# Prepare the data for Prophet\n",
    "# Prophet requires the time column to be named 'ds' and the value column to be named 'y'\n",
    "prophet_df = pd.DataFrame({\n",
    "    'ds': pd.to_datetime(mean_gpi_df['Year'], format='%Y'),\n",
    "    'y': mean_gpi_df['World Mean GPI']\n",
    "})\n",
    "\n",
    "# Create and fit the Prophet model\n",
    "model = Prophet(yearly_seasonality=False, daily_seasonality=False, weekly_seasonality=False)\n",
    "model.fit(prophet_df)\n",
    "\n",
    "# Create a DataFrame for future predictions\n",
    "future = model.make_future_dataframe(periods=1, freq='Y')\n",
    "\n",
    "# Make predictions\n",
    "forecast = model.predict(future)\n",
    "\n",
    "# Print the forecasted value for next year\n",
    "next_year_forecast = forecast['yhat'].iloc[-1]\n",
    "print(f\"Forecasted World Mean GPI for next year using Prophet: {next_year_forecast:.2f}\")"
   ]
  }
 ],
 "metadata": {
  "kernelspec": {
   "display_name": "Python 3",
   "language": "python",
   "name": "python3"
  },
  "language_info": {
   "codemirror_mode": {
    "name": "ipython",
    "version": 3
   },
   "file_extension": ".py",
   "mimetype": "text/x-python",
   "name": "python",
   "nbconvert_exporter": "python",
   "pygments_lexer": "ipython3",
   "version": "3.10.12"
  },
  "papermill": {
   "default_parameters": {},
   "duration": 60.902813,
   "end_time": "2023-11-04T04:30:04.304034",
   "environment_variables": {},
   "exception": null,
   "input_path": "__notebook__.ipynb",
   "output_path": "__notebook__.ipynb",
   "parameters": {},
   "start_time": "2023-11-04T04:29:03.401221",
   "version": "2.4.0"
  }
 },
 "nbformat": 4,
 "nbformat_minor": 5
}
